{
 "cells": [
  {
   "cell_type": "code",
   "execution_count": 26,
   "metadata": {},
   "outputs": [],
   "source": [
    "#Se importan las librerias\n",
    " \n",
    "import pandas as pd\n",
    "import numpy as np \n",
    "import matplotlib.pyplot as plt\n",
    "import seaborn as sns \n",
    "\n",
    "%matplotlib inline "
   ]
  },
  {
   "cell_type": "code",
   "execution_count": 27,
   "metadata": {},
   "outputs": [],
   "source": [
    "#Configuración de graficos \n",
    "\n",
    "sns.set_style(\"whitegrid\")\n",
    "sns.set(rc={'figure.figsize':(11.7,8.27)})"
   ]
  },
  {
   "cell_type": "code",
   "execution_count": 28,
   "metadata": {},
   "outputs": [],
   "source": [
    "#Se lee la base\n",
    "\n",
    "tarjetas = pd.read_csv('/Users/rodolfopardo/Downloads/Titulares_Tarjeta_Alimentar-20201231 2.csv')"
   ]
  },
  {
   "cell_type": "code",
   "execution_count": 30,
   "metadata": {},
   "outputs": [
    {
     "name": "stdout",
     "output_type": "stream",
     "text": [
      "La cantidad de titulares de Tarjeta Alimentar en Argentina son 1787249\n"
     ]
    }
   ],
   "source": [
    "print('La cantidad de titulares de Tarjeta Alimentar en Argentina son {}'.format(tarjetas.shape[0]))"
   ]
  },
  {
   "cell_type": "code",
   "execution_count": 32,
   "metadata": {},
   "outputs": [
    {
     "name": "stdout",
     "output_type": "stream",
     "text": [
      "<class 'pandas.core.frame.DataFrame'>\n",
      "RangeIndex: 1787249 entries, 0 to 1787248\n",
      "Data columns (total 9 columns):\n",
      " #   Column                     Dtype \n",
      "---  ------                     ----- \n",
      " 0   id_persona                 object\n",
      " 1   sexo                       object\n",
      " 2   codigo_indec_provincia     int64 \n",
      " 3   provincia                  object\n",
      " 4   codigo_indec_departamento  int64 \n",
      " 5   departamento               object\n",
      " 6   fecha_alta                 object\n",
      " 7   fecha_baja                 object\n",
      " 8   monto                      int64 \n",
      "dtypes: int64(3), object(6)\n",
      "memory usage: 122.7+ MB\n"
     ]
    }
   ],
   "source": [
    "#Detalles de nuestro dataset\n",
    "\n",
    "tarjetas.info()"
   ]
  },
  {
   "cell_type": "code",
   "execution_count": 33,
   "metadata": {},
   "outputs": [
    {
     "data": {
      "text/plain": [
       "id_persona                         0\n",
       "sexo                               0\n",
       "codigo_indec_provincia             0\n",
       "provincia                          0\n",
       "codigo_indec_departamento          0\n",
       "departamento                       0\n",
       "fecha_alta                         1\n",
       "fecha_baja                   1567751\n",
       "monto                              0\n",
       "dtype: int64"
      ]
     },
     "execution_count": 33,
     "metadata": {},
     "output_type": "execute_result"
    }
   ],
   "source": [
    "#Valores Nulos de la base\n",
    "\n",
    "tarjetas.isnull().sum()"
   ]
  },
  {
   "cell_type": "code",
   "execution_count": 41,
   "metadata": {},
   "outputs": [
    {
     "name": "stdout",
     "output_type": "stream",
     "text": [
      "Solo 219497 tarjetas alimentar han sido dadas de baja en Argentina\n"
     ]
    }
   ],
   "source": [
    "#Conclusion\n",
    "\n",
    "print(\"Solo {} tarjetas alimentar han sido dadas de baja en Argentina\".format(tarjetas['fecha_alta'].count()-tarjetas['fecha_baja'].isnull().sum()))"
   ]
  },
  {
   "cell_type": "code",
   "execution_count": 43,
   "metadata": {},
   "outputs": [
    {
     "name": "stdout",
     "output_type": "stream",
     "text": [
      "1567751 tarjetas alimentar siguen activas en Argentina\n"
     ]
    }
   ],
   "source": [
    "#Conclusion\n",
    "\n",
    "print('{} tarjetas alimentar siguen activas en Argentina'.format(tarjetas['fecha_baja'].isnull().sum()))"
   ]
  },
  {
   "cell_type": "code",
   "execution_count": 45,
   "metadata": {},
   "outputs": [
    {
     "data": {
      "text/html": [
       "<div>\n",
       "<style scoped>\n",
       "    .dataframe tbody tr th:only-of-type {\n",
       "        vertical-align: middle;\n",
       "    }\n",
       "\n",
       "    .dataframe tbody tr th {\n",
       "        vertical-align: top;\n",
       "    }\n",
       "\n",
       "    .dataframe thead th {\n",
       "        text-align: right;\n",
       "    }\n",
       "</style>\n",
       "<table border=\"1\" class=\"dataframe\">\n",
       "  <thead>\n",
       "    <tr style=\"text-align: right;\">\n",
       "      <th></th>\n",
       "      <th>id_persona</th>\n",
       "      <th>sexo</th>\n",
       "      <th>codigo_indec_provincia</th>\n",
       "      <th>provincia</th>\n",
       "      <th>codigo_indec_departamento</th>\n",
       "      <th>departamento</th>\n",
       "      <th>fecha_alta</th>\n",
       "      <th>fecha_baja</th>\n",
       "      <th>monto</th>\n",
       "    </tr>\n",
       "  </thead>\n",
       "  <tbody>\n",
       "    <tr>\n",
       "      <th>0</th>\n",
       "      <td>9AB0AEEA-238E-4589-85C3-FF720E082B74</td>\n",
       "      <td>F</td>\n",
       "      <td>34</td>\n",
       "      <td>Formosa</td>\n",
       "      <td>34021</td>\n",
       "      <td>Laishi</td>\n",
       "      <td>2020-03-01</td>\n",
       "      <td>NaN</td>\n",
       "      <td>4000</td>\n",
       "    </tr>\n",
       "    <tr>\n",
       "      <th>1</th>\n",
       "      <td>14115A4D-D642-4CB0-BC87-1CED6C9A7992</td>\n",
       "      <td>F</td>\n",
       "      <td>66</td>\n",
       "      <td>Salta</td>\n",
       "      <td>66028</td>\n",
       "      <td>Capital</td>\n",
       "      <td>2020-01-30</td>\n",
       "      <td>2020-08-31</td>\n",
       "      <td>4000</td>\n",
       "    </tr>\n",
       "    <tr>\n",
       "      <th>2</th>\n",
       "      <td>C27633DD-4BA0-40F5-8BCB-4504A4E233BD</td>\n",
       "      <td>F</td>\n",
       "      <td>6</td>\n",
       "      <td>Buenos Aires</td>\n",
       "      <td>6434</td>\n",
       "      <td>Lanús</td>\n",
       "      <td>2020-01-27</td>\n",
       "      <td>2020-08-31</td>\n",
       "      <td>4000</td>\n",
       "    </tr>\n",
       "    <tr>\n",
       "      <th>3</th>\n",
       "      <td>256F5FCF-C96F-4FA9-A236-4392ECFF8E98</td>\n",
       "      <td>F</td>\n",
       "      <td>78</td>\n",
       "      <td>Santa Cruz</td>\n",
       "      <td>78021</td>\n",
       "      <td>Güer Aike</td>\n",
       "      <td>2020-02-06</td>\n",
       "      <td>NaN</td>\n",
       "      <td>4000</td>\n",
       "    </tr>\n",
       "    <tr>\n",
       "      <th>4</th>\n",
       "      <td>FA4774AC-93ED-4029-8E51-9D5536F28D73</td>\n",
       "      <td>F</td>\n",
       "      <td>50</td>\n",
       "      <td>Mendoza</td>\n",
       "      <td>50126</td>\n",
       "      <td>Tupungato</td>\n",
       "      <td>2020-03-01</td>\n",
       "      <td>NaN</td>\n",
       "      <td>6000</td>\n",
       "    </tr>\n",
       "  </tbody>\n",
       "</table>\n",
       "</div>"
      ],
      "text/plain": [
       "                             id_persona sexo  codigo_indec_provincia  \\\n",
       "0  9AB0AEEA-238E-4589-85C3-FF720E082B74    F                      34   \n",
       "1  14115A4D-D642-4CB0-BC87-1CED6C9A7992    F                      66   \n",
       "2  C27633DD-4BA0-40F5-8BCB-4504A4E233BD    F                       6   \n",
       "3  256F5FCF-C96F-4FA9-A236-4392ECFF8E98    F                      78   \n",
       "4  FA4774AC-93ED-4029-8E51-9D5536F28D73    F                      50   \n",
       "\n",
       "      provincia  codigo_indec_departamento departamento  fecha_alta  \\\n",
       "0       Formosa                      34021       Laishi  2020-03-01   \n",
       "1         Salta                      66028      Capital  2020-01-30   \n",
       "2  Buenos Aires                       6434        Lanús  2020-01-27   \n",
       "3    Santa Cruz                      78021    Güer Aike  2020-02-06   \n",
       "4       Mendoza                      50126    Tupungato  2020-03-01   \n",
       "\n",
       "   fecha_baja  monto  \n",
       "0         NaN   4000  \n",
       "1  2020-08-31   4000  \n",
       "2  2020-08-31   4000  \n",
       "3         NaN   4000  \n",
       "4         NaN   6000  "
      ]
     },
     "execution_count": 45,
     "metadata": {},
     "output_type": "execute_result"
    }
   ],
   "source": [
    "#Primera visualización de nuestra base\n",
    "\n",
    "tarjetas.head()\n"
   ]
  },
  {
   "cell_type": "code",
   "execution_count": 58,
   "metadata": {},
   "outputs": [],
   "source": [
    "#Se transforma el tipo de dato\n",
    "\n",
    "tarjetas['fecha_alta'] = pd.to_datetime(tarjetas['fecha_alta'], format = \"%Y-%m-%d\")"
   ]
  },
  {
   "cell_type": "code",
   "execution_count": 59,
   "metadata": {},
   "outputs": [],
   "source": [
    "#Se extrae el año\n",
    "\n",
    "tarjetas['ano_alta'] = pd.DatetimeIndex(tarjetas['fecha_alta']).year"
   ]
  },
  {
   "cell_type": "code",
   "execution_count": 60,
   "metadata": {},
   "outputs": [],
   "source": [
    "#Se extrae el mes\n",
    "\n",
    "tarjetas['mes_alta'] = pd.DatetimeIndex(tarjetas['fecha_alta']).month"
   ]
  },
  {
   "cell_type": "code",
   "execution_count": 61,
   "metadata": {},
   "outputs": [],
   "source": [
    "#Se extrae el dia\n",
    "\n",
    "tarjetas['dia_alta'] = pd.DatetimeIndex(tarjetas['fecha_alta']).day"
   ]
  },
  {
   "cell_type": "code",
   "execution_count": 62,
   "metadata": {},
   "outputs": [
    {
     "data": {
      "text/html": [
       "<div>\n",
       "<style scoped>\n",
       "    .dataframe tbody tr th:only-of-type {\n",
       "        vertical-align: middle;\n",
       "    }\n",
       "\n",
       "    .dataframe tbody tr th {\n",
       "        vertical-align: top;\n",
       "    }\n",
       "\n",
       "    .dataframe thead th {\n",
       "        text-align: right;\n",
       "    }\n",
       "</style>\n",
       "<table border=\"1\" class=\"dataframe\">\n",
       "  <thead>\n",
       "    <tr style=\"text-align: right;\">\n",
       "      <th></th>\n",
       "      <th>id_persona</th>\n",
       "      <th>sexo</th>\n",
       "      <th>codigo_indec_provincia</th>\n",
       "      <th>provincia</th>\n",
       "      <th>codigo_indec_departamento</th>\n",
       "      <th>departamento</th>\n",
       "      <th>fecha_alta</th>\n",
       "      <th>fecha_baja</th>\n",
       "      <th>monto</th>\n",
       "      <th>ano_alta</th>\n",
       "      <th>mes_alta</th>\n",
       "      <th>dia_alta</th>\n",
       "    </tr>\n",
       "  </thead>\n",
       "  <tbody>\n",
       "    <tr>\n",
       "      <th>0</th>\n",
       "      <td>9AB0AEEA-238E-4589-85C3-FF720E082B74</td>\n",
       "      <td>F</td>\n",
       "      <td>34</td>\n",
       "      <td>Formosa</td>\n",
       "      <td>34021</td>\n",
       "      <td>Laishi</td>\n",
       "      <td>2020-03-01</td>\n",
       "      <td>NaN</td>\n",
       "      <td>4000</td>\n",
       "      <td>2020.0</td>\n",
       "      <td>3.0</td>\n",
       "      <td>1.0</td>\n",
       "    </tr>\n",
       "    <tr>\n",
       "      <th>1</th>\n",
       "      <td>14115A4D-D642-4CB0-BC87-1CED6C9A7992</td>\n",
       "      <td>F</td>\n",
       "      <td>66</td>\n",
       "      <td>Salta</td>\n",
       "      <td>66028</td>\n",
       "      <td>Capital</td>\n",
       "      <td>2020-01-30</td>\n",
       "      <td>2020-08-31</td>\n",
       "      <td>4000</td>\n",
       "      <td>2020.0</td>\n",
       "      <td>1.0</td>\n",
       "      <td>30.0</td>\n",
       "    </tr>\n",
       "    <tr>\n",
       "      <th>2</th>\n",
       "      <td>C27633DD-4BA0-40F5-8BCB-4504A4E233BD</td>\n",
       "      <td>F</td>\n",
       "      <td>6</td>\n",
       "      <td>Buenos Aires</td>\n",
       "      <td>6434</td>\n",
       "      <td>Lanús</td>\n",
       "      <td>2020-01-27</td>\n",
       "      <td>2020-08-31</td>\n",
       "      <td>4000</td>\n",
       "      <td>2020.0</td>\n",
       "      <td>1.0</td>\n",
       "      <td>27.0</td>\n",
       "    </tr>\n",
       "    <tr>\n",
       "      <th>3</th>\n",
       "      <td>256F5FCF-C96F-4FA9-A236-4392ECFF8E98</td>\n",
       "      <td>F</td>\n",
       "      <td>78</td>\n",
       "      <td>Santa Cruz</td>\n",
       "      <td>78021</td>\n",
       "      <td>Güer Aike</td>\n",
       "      <td>2020-02-06</td>\n",
       "      <td>NaN</td>\n",
       "      <td>4000</td>\n",
       "      <td>2020.0</td>\n",
       "      <td>2.0</td>\n",
       "      <td>6.0</td>\n",
       "    </tr>\n",
       "    <tr>\n",
       "      <th>4</th>\n",
       "      <td>FA4774AC-93ED-4029-8E51-9D5536F28D73</td>\n",
       "      <td>F</td>\n",
       "      <td>50</td>\n",
       "      <td>Mendoza</td>\n",
       "      <td>50126</td>\n",
       "      <td>Tupungato</td>\n",
       "      <td>2020-03-01</td>\n",
       "      <td>NaN</td>\n",
       "      <td>6000</td>\n",
       "      <td>2020.0</td>\n",
       "      <td>3.0</td>\n",
       "      <td>1.0</td>\n",
       "    </tr>\n",
       "  </tbody>\n",
       "</table>\n",
       "</div>"
      ],
      "text/plain": [
       "                             id_persona sexo  codigo_indec_provincia  \\\n",
       "0  9AB0AEEA-238E-4589-85C3-FF720E082B74    F                      34   \n",
       "1  14115A4D-D642-4CB0-BC87-1CED6C9A7992    F                      66   \n",
       "2  C27633DD-4BA0-40F5-8BCB-4504A4E233BD    F                       6   \n",
       "3  256F5FCF-C96F-4FA9-A236-4392ECFF8E98    F                      78   \n",
       "4  FA4774AC-93ED-4029-8E51-9D5536F28D73    F                      50   \n",
       "\n",
       "      provincia  codigo_indec_departamento departamento fecha_alta  \\\n",
       "0       Formosa                      34021       Laishi 2020-03-01   \n",
       "1         Salta                      66028      Capital 2020-01-30   \n",
       "2  Buenos Aires                       6434        Lanús 2020-01-27   \n",
       "3    Santa Cruz                      78021    Güer Aike 2020-02-06   \n",
       "4       Mendoza                      50126    Tupungato 2020-03-01   \n",
       "\n",
       "   fecha_baja  monto  ano_alta  mes_alta  dia_alta  \n",
       "0         NaN   4000    2020.0       3.0       1.0  \n",
       "1  2020-08-31   4000    2020.0       1.0      30.0  \n",
       "2  2020-08-31   4000    2020.0       1.0      27.0  \n",
       "3         NaN   4000    2020.0       2.0       6.0  \n",
       "4         NaN   6000    2020.0       3.0       1.0  "
      ]
     },
     "execution_count": 62,
     "metadata": {},
     "output_type": "execute_result"
    }
   ],
   "source": [
    "#Primeros valores nacionales\n",
    "\n",
    "tarjetas.head()"
   ]
  },
  {
   "cell_type": "code",
   "execution_count": 74,
   "metadata": {},
   "outputs": [
    {
     "data": {
      "text/plain": [
       "<matplotlib.axes._subplots.AxesSubplot at 0x1a265a6e10>"
      ]
     },
     "execution_count": 74,
     "metadata": {},
     "output_type": "execute_result"
    },
    {
     "data": {
      "image/png": "[encoded data removed]",
      "text/plain": [
       "<Figure size 842.4x595.44 with 1 Axes>"
      ]
     },
     "metadata": {},
     "output_type": "display_data"
    }
   ],
   "source": [
    "tarjetas.groupby('provincia')['monto'].agg(['max', 'min', 'mean', 'sum']).sort_values(ascending = False, by = \"sum\").plot.bar()"
   ]
  },
  {
   "cell_type": "code",
   "execution_count": 72,
   "metadata": {},
   "outputs": [
    {
     "data": {
      "text/plain": [
       "8137512000"
      ]
     },
     "execution_count": 72,
     "metadata": {},
     "output_type": "execute_result"
    }
   ],
   "source": [
    "tarjetas.monto.sum()"
   ]
  },
  {
   "cell_type": "code",
   "execution_count": null,
   "metadata": {},
   "outputs": [],
   "source": []
  }
 ],
 "metadata": {
  "kernelspec": {
   "display_name": "Python 3",
   "language": "python",
   "name": "python3"
  },
  "language_info": {
   "codemirror_mode": {
    "name": "ipython",
    "version": 3
   },
   "file_extension": ".py",
   "mimetype": "text/x-python",
   "name": "python",
   "nbconvert_exporter": "python",
   "pygments_lexer": "ipython3",
   "version": "3.6.9"
  }
 },
 "nbformat": 4,
 "nbformat_minor": 4
}
