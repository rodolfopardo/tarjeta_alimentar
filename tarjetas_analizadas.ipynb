{
 "cells": [
  {
   "cell_type": "code",
   "execution_count": 2,
   "metadata": {},
   "outputs": [
    {
     "name": "stderr",
     "output_type": "stream",
     "text": [
      "/anaconda3/lib/python3.6/site-packages/statsmodels/tools/_testing.py:19: FutureWarning: pandas.util.testing is deprecated. Use the functions in the public API at pandas.testing instead.\n",
      "  import pandas.util.testing as tm\n"
     ]
    }
   ],
   "source": [
    "#Se importan las librerias\n",
    " \n",
    "import pandas as pd\n",
    "import numpy as np \n",
    "import matplotlib.pyplot as plt\n",
    "import seaborn as sns \n",
    "\n",
    "%matplotlib inline "
   ]
  },
  {
   "cell_type": "code",
   "execution_count": 3,
   "metadata": {},
   "outputs": [],
   "source": [
    "#Configuración de graficos \n",
    "\n",
    "sns.set_style(\"whitegrid\")\n",
    "sns.set(rc={'figure.figsize':(11.7,8.27)})"
   ]
  },
  {
   "cell_type": "code",
   "execution_count": 4,
   "metadata": {},
   "outputs": [],
   "source": [
    "#Se lee la base\n",
    "\n",
    "tarjetas = pd.read_csv('/Users/rodolfopardo/Downloads/Titulares_Tarjeta_Alimentar-20201231 2.csv')"
   ]
  },
  {
   "cell_type": "code",
   "execution_count": 5,
   "metadata": {},
   "outputs": [
    {
     "name": "stdout",
     "output_type": "stream",
     "text": [
      "La cantidad de titulares de Tarjeta Alimentar en Argentina son 1787249\n"
     ]
    }
   ],
   "source": [
    "print('La cantidad de titulares de Tarjeta Alimentar en Argentina son {}'.format(tarjetas.shape[0]))"
   ]
  },
  {
   "cell_type": "code",
   "execution_count": 6,
   "metadata": {},
   "outputs": [
    {
     "name": "stdout",
     "output_type": "stream",
     "text": [
      "<class 'pandas.core.frame.DataFrame'>\n",
      "RangeIndex: 1787249 entries, 0 to 1787248\n",
      "Data columns (total 9 columns):\n",
      " #   Column                     Dtype \n",
      "---  ------                     ----- \n",
      " 0   id_persona                 object\n",
      " 1   sexo                       object\n",
      " 2   codigo_indec_provincia     int64 \n",
      " 3   provincia                  object\n",
      " 4   codigo_indec_departamento  int64 \n",
      " 5   departamento               object\n",
      " 6   fecha_alta                 object\n",
      " 7   fecha_baja                 object\n",
      " 8   monto                      int64 \n",
      "dtypes: int64(3), object(6)\n",
      "memory usage: 122.7+ MB\n"
     ]
    }
   ],
   "source": [
    "#Detalles de nuestro dataset\n",
    "\n",
    "tarjetas.info()"
   ]
  },
  {
   "cell_type": "code",
   "execution_count": 7,
   "metadata": {},
   "outputs": [
    {
     "data": {
      "text/plain": [
       "id_persona                         0\n",
       "sexo                               0\n",
       "codigo_indec_provincia             0\n",
       "provincia                          0\n",
       "codigo_indec_departamento          0\n",
       "departamento                       0\n",
       "fecha_alta                         1\n",
       "fecha_baja                   1567751\n",
       "monto                              0\n",
       "dtype: int64"
      ]
     },
     "execution_count": 7,
     "metadata": {},
     "output_type": "execute_result"
    }
   ],
   "source": [
    "#Valores Nulos de la base\n",
    "\n",
    "tarjetas.isnull().sum()"
   ]
  },
  {
   "cell_type": "code",
   "execution_count": 8,
   "metadata": {},
   "outputs": [
    {
     "name": "stdout",
     "output_type": "stream",
     "text": [
      "Solo 219497 tarjetas alimentar han sido dadas de baja en Argentina\n"
     ]
    }
   ],
   "source": [
    "#Conclusion\n",
    "\n",
    "print(\"Solo {} tarjetas alimentar han sido dadas de baja en Argentina\".format(tarjetas['fecha_alta'].count()-tarjetas['fecha_baja'].isnull().sum()))"
   ]
  },
  {
   "cell_type": "code",
   "execution_count": 9,
   "metadata": {},
   "outputs": [
    {
     "name": "stdout",
     "output_type": "stream",
     "text": [
      "1567751 tarjetas alimentar siguen activas en Argentina\n"
     ]
    }
   ],
   "source": [
    "#Conclusion\n",
    "\n",
    "print('{} tarjetas alimentar siguen activas en Argentina'.format(tarjetas['fecha_baja'].isnull().sum()))"
   ]
  },
  {
   "cell_type": "code",
   "execution_count": 10,
   "metadata": {},
   "outputs": [
    {
     "data": {
      "text/html": [
       "<div>\n",
       "<style scoped>\n",
       "    .dataframe tbody tr th:only-of-type {\n",
       "        vertical-align: middle;\n",
       "    }\n",
       "\n",
       "    .dataframe tbody tr th {\n",
       "        vertical-align: top;\n",
       "    }\n",
       "\n",
       "    .dataframe thead th {\n",
       "        text-align: right;\n",
       "    }\n",
       "</style>\n",
       "<table border=\"1\" class=\"dataframe\">\n",
       "  <thead>\n",
       "    <tr style=\"text-align: right;\">\n",
       "      <th></th>\n",
       "      <th>id_persona</th>\n",
       "      <th>sexo</th>\n",
       "      <th>codigo_indec_provincia</th>\n",
       "      <th>provincia</th>\n",
       "      <th>codigo_indec_departamento</th>\n",
       "      <th>departamento</th>\n",
       "      <th>fecha_alta</th>\n",
       "      <th>fecha_baja</th>\n",
       "      <th>monto</th>\n",
       "    </tr>\n",
       "  </thead>\n",
       "  <tbody>\n",
       "    <tr>\n",
       "      <th>0</th>\n",
       "      <td>9AB0AEEA-238E-4589-85C3-FF720E082B74</td>\n",
       "      <td>F</td>\n",
       "      <td>34</td>\n",
       "      <td>Formosa</td>\n",
       "      <td>34021</td>\n",
       "      <td>Laishi</td>\n",
       "      <td>2020-03-01</td>\n",
       "      <td>NaN</td>\n",
       "      <td>4000</td>\n",
       "    </tr>\n",
       "    <tr>\n",
       "      <th>1</th>\n",
       "      <td>14115A4D-D642-4CB0-BC87-1CED6C9A7992</td>\n",
       "      <td>F</td>\n",
       "      <td>66</td>\n",
       "      <td>Salta</td>\n",
       "      <td>66028</td>\n",
       "      <td>Capital</td>\n",
       "      <td>2020-01-30</td>\n",
       "      <td>2020-08-31</td>\n",
       "      <td>4000</td>\n",
       "    </tr>\n",
       "    <tr>\n",
       "      <th>2</th>\n",
       "      <td>C27633DD-4BA0-40F5-8BCB-4504A4E233BD</td>\n",
       "      <td>F</td>\n",
       "      <td>6</td>\n",
       "      <td>Buenos Aires</td>\n",
       "      <td>6434</td>\n",
       "      <td>Lanús</td>\n",
       "      <td>2020-01-27</td>\n",
       "      <td>2020-08-31</td>\n",
       "      <td>4000</td>\n",
       "    </tr>\n",
       "    <tr>\n",
       "      <th>3</th>\n",
       "      <td>256F5FCF-C96F-4FA9-A236-4392ECFF8E98</td>\n",
       "      <td>F</td>\n",
       "      <td>78</td>\n",
       "      <td>Santa Cruz</td>\n",
       "      <td>78021</td>\n",
       "      <td>Güer Aike</td>\n",
       "      <td>2020-02-06</td>\n",
       "      <td>NaN</td>\n",
       "      <td>4000</td>\n",
       "    </tr>\n",
       "    <tr>\n",
       "      <th>4</th>\n",
       "      <td>FA4774AC-93ED-4029-8E51-9D5536F28D73</td>\n",
       "      <td>F</td>\n",
       "      <td>50</td>\n",
       "      <td>Mendoza</td>\n",
       "      <td>50126</td>\n",
       "      <td>Tupungato</td>\n",
       "      <td>2020-03-01</td>\n",
       "      <td>NaN</td>\n",
       "      <td>6000</td>\n",
       "    </tr>\n",
       "  </tbody>\n",
       "</table>\n",
       "</div>"
      ],
      "text/plain": [
       "                             id_persona sexo  codigo_indec_provincia  \\\n",
       "0  9AB0AEEA-238E-4589-85C3-FF720E082B74    F                      34   \n",
       "1  14115A4D-D642-4CB0-BC87-1CED6C9A7992    F                      66   \n",
       "2  C27633DD-4BA0-40F5-8BCB-4504A4E233BD    F                       6   \n",
       "3  256F5FCF-C96F-4FA9-A236-4392ECFF8E98    F                      78   \n",
       "4  FA4774AC-93ED-4029-8E51-9D5536F28D73    F                      50   \n",
       "\n",
       "      provincia  codigo_indec_departamento departamento  fecha_alta  \\\n",
       "0       Formosa                      34021       Laishi  2020-03-01   \n",
       "1         Salta                      66028      Capital  2020-01-30   \n",
       "2  Buenos Aires                       6434        Lanús  2020-01-27   \n",
       "3    Santa Cruz                      78021    Güer Aike  2020-02-06   \n",
       "4       Mendoza                      50126    Tupungato  2020-03-01   \n",
       "\n",
       "   fecha_baja  monto  \n",
       "0         NaN   4000  \n",
       "1  2020-08-31   4000  \n",
       "2  2020-08-31   4000  \n",
       "3         NaN   4000  \n",
       "4         NaN   6000  "
      ]
     },
     "execution_count": 10,
     "metadata": {},
     "output_type": "execute_result"
    }
   ],
   "source": [
    "#Primera visualización de nuestra base\n",
    "\n",
    "tarjetas.head()\n"
   ]
  },
  {
   "cell_type": "code",
   "execution_count": 11,
   "metadata": {},
   "outputs": [],
   "source": [
    "#Se transforma el tipo de dato\n",
    "\n",
    "tarjetas['fecha_alta'] = pd.to_datetime(tarjetas['fecha_alta'], format = \"%Y-%m-%d\")"
   ]
  },
  {
   "cell_type": "code",
   "execution_count": 12,
   "metadata": {},
   "outputs": [],
   "source": [
    "#Se extrae el año\n",
    "\n",
    "tarjetas['ano_alta'] = pd.DatetimeIndex(tarjetas['fecha_alta']).year"
   ]
  },
  {
   "cell_type": "code",
   "execution_count": 13,
   "metadata": {},
   "outputs": [],
   "source": [
    "#Se extrae el mes\n",
    "\n",
    "tarjetas['mes_alta'] = pd.DatetimeIndex(tarjetas['fecha_alta']).month"
   ]
  },
  {
   "cell_type": "code",
   "execution_count": 14,
   "metadata": {},
   "outputs": [],
   "source": [
    "#Se extrae el dia\n",
    "\n",
    "tarjetas['dia_alta'] = pd.DatetimeIndex(tarjetas['fecha_alta']).day"
   ]
  },
  {
   "cell_type": "code",
   "execution_count": 15,
   "metadata": {},
   "outputs": [
    {
     "data": {
      "text/html": [
       "<div>\n",
       "<style scoped>\n",
       "    .dataframe tbody tr th:only-of-type {\n",
       "        vertical-align: middle;\n",
       "    }\n",
       "\n",
       "    .dataframe tbody tr th {\n",
       "        vertical-align: top;\n",
       "    }\n",
       "\n",
       "    .dataframe thead th {\n",
       "        text-align: right;\n",
       "    }\n",
       "</style>\n",
       "<table border=\"1\" class=\"dataframe\">\n",
       "  <thead>\n",
       "    <tr style=\"text-align: right;\">\n",
       "      <th></th>\n",
       "      <th>id_persona</th>\n",
       "      <th>sexo</th>\n",
       "      <th>codigo_indec_provincia</th>\n",
       "      <th>provincia</th>\n",
       "      <th>codigo_indec_departamento</th>\n",
       "      <th>departamento</th>\n",
       "      <th>fecha_alta</th>\n",
       "      <th>fecha_baja</th>\n",
       "      <th>monto</th>\n",
       "      <th>ano_alta</th>\n",
       "      <th>mes_alta</th>\n",
       "      <th>dia_alta</th>\n",
       "    </tr>\n",
       "  </thead>\n",
       "  <tbody>\n",
       "    <tr>\n",
       "      <th>0</th>\n",
       "      <td>9AB0AEEA-238E-4589-85C3-FF720E082B74</td>\n",
       "      <td>F</td>\n",
       "      <td>34</td>\n",
       "      <td>Formosa</td>\n",
       "      <td>34021</td>\n",
       "      <td>Laishi</td>\n",
       "      <td>2020-03-01</td>\n",
       "      <td>NaN</td>\n",
       "      <td>4000</td>\n",
       "      <td>2020.0</td>\n",
       "      <td>3.0</td>\n",
       "      <td>1.0</td>\n",
       "    </tr>\n",
       "    <tr>\n",
       "      <th>1</th>\n",
       "      <td>14115A4D-D642-4CB0-BC87-1CED6C9A7992</td>\n",
       "      <td>F</td>\n",
       "      <td>66</td>\n",
       "      <td>Salta</td>\n",
       "      <td>66028</td>\n",
       "      <td>Capital</td>\n",
       "      <td>2020-01-30</td>\n",
       "      <td>2020-08-31</td>\n",
       "      <td>4000</td>\n",
       "      <td>2020.0</td>\n",
       "      <td>1.0</td>\n",
       "      <td>30.0</td>\n",
       "    </tr>\n",
       "    <tr>\n",
       "      <th>2</th>\n",
       "      <td>C27633DD-4BA0-40F5-8BCB-4504A4E233BD</td>\n",
       "      <td>F</td>\n",
       "      <td>6</td>\n",
       "      <td>Buenos Aires</td>\n",
       "      <td>6434</td>\n",
       "      <td>Lanús</td>\n",
       "      <td>2020-01-27</td>\n",
       "      <td>2020-08-31</td>\n",
       "      <td>4000</td>\n",
       "      <td>2020.0</td>\n",
       "      <td>1.0</td>\n",
       "      <td>27.0</td>\n",
       "    </tr>\n",
       "    <tr>\n",
       "      <th>3</th>\n",
       "      <td>256F5FCF-C96F-4FA9-A236-4392ECFF8E98</td>\n",
       "      <td>F</td>\n",
       "      <td>78</td>\n",
       "      <td>Santa Cruz</td>\n",
       "      <td>78021</td>\n",
       "      <td>Güer Aike</td>\n",
       "      <td>2020-02-06</td>\n",
       "      <td>NaN</td>\n",
       "      <td>4000</td>\n",
       "      <td>2020.0</td>\n",
       "      <td>2.0</td>\n",
       "      <td>6.0</td>\n",
       "    </tr>\n",
       "    <tr>\n",
       "      <th>4</th>\n",
       "      <td>FA4774AC-93ED-4029-8E51-9D5536F28D73</td>\n",
       "      <td>F</td>\n",
       "      <td>50</td>\n",
       "      <td>Mendoza</td>\n",
       "      <td>50126</td>\n",
       "      <td>Tupungato</td>\n",
       "      <td>2020-03-01</td>\n",
       "      <td>NaN</td>\n",
       "      <td>6000</td>\n",
       "      <td>2020.0</td>\n",
       "      <td>3.0</td>\n",
       "      <td>1.0</td>\n",
       "    </tr>\n",
       "  </tbody>\n",
       "</table>\n",
       "</div>"
      ],
      "text/plain": [
       "                             id_persona sexo  codigo_indec_provincia  \\\n",
       "0  9AB0AEEA-238E-4589-85C3-FF720E082B74    F                      34   \n",
       "1  14115A4D-D642-4CB0-BC87-1CED6C9A7992    F                      66   \n",
       "2  C27633DD-4BA0-40F5-8BCB-4504A4E233BD    F                       6   \n",
       "3  256F5FCF-C96F-4FA9-A236-4392ECFF8E98    F                      78   \n",
       "4  FA4774AC-93ED-4029-8E51-9D5536F28D73    F                      50   \n",
       "\n",
       "      provincia  codigo_indec_departamento departamento fecha_alta  \\\n",
       "0       Formosa                      34021       Laishi 2020-03-01   \n",
       "1         Salta                      66028      Capital 2020-01-30   \n",
       "2  Buenos Aires                       6434        Lanús 2020-01-27   \n",
       "3    Santa Cruz                      78021    Güer Aike 2020-02-06   \n",
       "4       Mendoza                      50126    Tupungato 2020-03-01   \n",
       "\n",
       "   fecha_baja  monto  ano_alta  mes_alta  dia_alta  \n",
       "0         NaN   4000    2020.0       3.0       1.0  \n",
       "1  2020-08-31   4000    2020.0       1.0      30.0  \n",
       "2  2020-08-31   4000    2020.0       1.0      27.0  \n",
       "3         NaN   4000    2020.0       2.0       6.0  \n",
       "4         NaN   6000    2020.0       3.0       1.0  "
      ]
     },
     "execution_count": 15,
     "metadata": {},
     "output_type": "execute_result"
    }
   ],
   "source": [
    "#Primeros valores nacionales\n",
    "\n",
    "tarjetas.head()"
   ]
  },
  {
   "cell_type": "code",
   "execution_count": 16,
   "metadata": {},
   "outputs": [
    {
     "data": {
      "text/plain": [
       "8137512000"
      ]
     },
     "execution_count": 16,
     "metadata": {},
     "output_type": "execute_result"
    }
   ],
   "source": [
    "tarjetas.monto.sum()"
   ]
  },
  {
   "cell_type": "code",
   "execution_count": 30,
   "metadata": {},
   "outputs": [],
   "source": [
    "tarjetas.provincia.value_counts().to_frame('cantidad').to_csv('tarjetas_por_provincia.csv')"
   ]
  },
  {
   "cell_type": "code",
   "execution_count": 34,
   "metadata": {},
   "outputs": [
    {
     "data": {
      "text/plain": [
       "Buenos Aires              0.369940\n",
       "Córdoba                   0.076223\n",
       "Santa Fe                  0.070551\n",
       "Mendoza                   0.046108\n",
       "Tucumán                   0.045610\n",
       "Chaco                     0.042835\n",
       "Salta                     0.042696\n",
       "Misiones                  0.040152\n",
       "Corrientes                0.033105\n",
       "Santiago del Estero       0.032611\n",
       "Entre Ríos                0.029070\n",
       "Ciudad de Buenos Aires    0.027801\n",
       "San Juan                  0.021573\n",
       "Jujuy                     0.020598\n",
       "Formosa                   0.019923\n",
       "Río Negro                 0.013686\n",
       "Neuquén                   0.011721\n",
       "San Luis                  0.011114\n",
       "Catamarca                 0.010624\n",
       "La Rioja                  0.009778\n",
       "Chubut                    0.008836\n",
       "La Pampa                  0.006628\n",
       "Santa Cruz                0.006417\n",
       "Tierra del Fuego          0.002399\n",
       "Name: provincia, dtype: float64"
      ]
     },
     "execution_count": 34,
     "metadata": {},
     "output_type": "execute_result"
    }
   ],
   "source": [
    "tarjetas.provincia.value_counts(normalize = True)"
   ]
  },
  {
   "cell_type": "code",
   "execution_count": 35,
   "metadata": {},
   "outputs": [
    {
     "data": {
      "text/plain": [
       "F    1673370\n",
       "M     113879\n",
       "Name: sexo, dtype: int64"
      ]
     },
     "execution_count": 35,
     "metadata": {},
     "output_type": "execute_result"
    }
   ],
   "source": [
    "tarjetas.sexo.value_counts()"
   ]
  },
  {
   "cell_type": "code",
   "execution_count": 36,
   "metadata": {},
   "outputs": [],
   "source": [
    "mendoza = tarjetas[tarjetas['provincia'] == \"Mendoza\"]"
   ]
  },
  {
   "cell_type": "code",
   "execution_count": 37,
   "metadata": {},
   "outputs": [
    {
     "data": {
      "text/html": [
       "<div>\n",
       "<style scoped>\n",
       "    .dataframe tbody tr th:only-of-type {\n",
       "        vertical-align: middle;\n",
       "    }\n",
       "\n",
       "    .dataframe tbody tr th {\n",
       "        vertical-align: top;\n",
       "    }\n",
       "\n",
       "    .dataframe thead th {\n",
       "        text-align: right;\n",
       "    }\n",
       "</style>\n",
       "<table border=\"1\" class=\"dataframe\">\n",
       "  <thead>\n",
       "    <tr style=\"text-align: right;\">\n",
       "      <th></th>\n",
       "      <th>id_persona</th>\n",
       "      <th>sexo</th>\n",
       "      <th>codigo_indec_provincia</th>\n",
       "      <th>provincia</th>\n",
       "      <th>codigo_indec_departamento</th>\n",
       "      <th>departamento</th>\n",
       "      <th>fecha_alta</th>\n",
       "      <th>fecha_baja</th>\n",
       "      <th>monto</th>\n",
       "      <th>ano_alta</th>\n",
       "      <th>mes_alta</th>\n",
       "      <th>dia_alta</th>\n",
       "    </tr>\n",
       "  </thead>\n",
       "  <tbody>\n",
       "    <tr>\n",
       "      <th>4</th>\n",
       "      <td>FA4774AC-93ED-4029-8E51-9D5536F28D73</td>\n",
       "      <td>F</td>\n",
       "      <td>50</td>\n",
       "      <td>Mendoza</td>\n",
       "      <td>50126</td>\n",
       "      <td>Tupungato</td>\n",
       "      <td>2020-03-01</td>\n",
       "      <td>NaN</td>\n",
       "      <td>6000</td>\n",
       "      <td>2020.0</td>\n",
       "      <td>3.0</td>\n",
       "      <td>1.0</td>\n",
       "    </tr>\n",
       "    <tr>\n",
       "      <th>12</th>\n",
       "      <td>64974C2E-F59D-45C5-90F5-FBEA4AE751D6</td>\n",
       "      <td>F</td>\n",
       "      <td>50</td>\n",
       "      <td>Mendoza</td>\n",
       "      <td>50070</td>\n",
       "      <td>Maipú</td>\n",
       "      <td>2020-03-01</td>\n",
       "      <td>2020-08-31</td>\n",
       "      <td>4000</td>\n",
       "      <td>2020.0</td>\n",
       "      <td>3.0</td>\n",
       "      <td>1.0</td>\n",
       "    </tr>\n",
       "    <tr>\n",
       "      <th>23</th>\n",
       "      <td>7A40ADBF-2EAB-4500-B375-58B33B7BB656</td>\n",
       "      <td>F</td>\n",
       "      <td>50</td>\n",
       "      <td>Mendoza</td>\n",
       "      <td>50007</td>\n",
       "      <td>Capital</td>\n",
       "      <td>2020-09-08</td>\n",
       "      <td>NaN</td>\n",
       "      <td>4000</td>\n",
       "      <td>2020.0</td>\n",
       "      <td>9.0</td>\n",
       "      <td>8.0</td>\n",
       "    </tr>\n",
       "    <tr>\n",
       "      <th>25</th>\n",
       "      <td>8A357D2F-2B03-49B3-8383-6974D5294162</td>\n",
       "      <td>F</td>\n",
       "      <td>50</td>\n",
       "      <td>Mendoza</td>\n",
       "      <td>50028</td>\n",
       "      <td>Guaymallén</td>\n",
       "      <td>2020-09-08</td>\n",
       "      <td>NaN</td>\n",
       "      <td>4000</td>\n",
       "      <td>2020.0</td>\n",
       "      <td>9.0</td>\n",
       "      <td>8.0</td>\n",
       "    </tr>\n",
       "    <tr>\n",
       "      <th>29</th>\n",
       "      <td>871B1C9E-1035-4E8F-8E90-57877A9D10F3</td>\n",
       "      <td>F</td>\n",
       "      <td>50</td>\n",
       "      <td>Mendoza</td>\n",
       "      <td>50063</td>\n",
       "      <td>Luján de Cuyo</td>\n",
       "      <td>2020-09-08</td>\n",
       "      <td>NaN</td>\n",
       "      <td>4000</td>\n",
       "      <td>2020.0</td>\n",
       "      <td>9.0</td>\n",
       "      <td>8.0</td>\n",
       "    </tr>\n",
       "  </tbody>\n",
       "</table>\n",
       "</div>"
      ],
      "text/plain": [
       "                              id_persona sexo  codigo_indec_provincia  \\\n",
       "4   FA4774AC-93ED-4029-8E51-9D5536F28D73    F                      50   \n",
       "12  64974C2E-F59D-45C5-90F5-FBEA4AE751D6    F                      50   \n",
       "23  7A40ADBF-2EAB-4500-B375-58B33B7BB656    F                      50   \n",
       "25  8A357D2F-2B03-49B3-8383-6974D5294162    F                      50   \n",
       "29  871B1C9E-1035-4E8F-8E90-57877A9D10F3    F                      50   \n",
       "\n",
       "   provincia  codigo_indec_departamento   departamento fecha_alta  fecha_baja  \\\n",
       "4    Mendoza                      50126      Tupungato 2020-03-01         NaN   \n",
       "12   Mendoza                      50070          Maipú 2020-03-01  2020-08-31   \n",
       "23   Mendoza                      50007        Capital 2020-09-08         NaN   \n",
       "25   Mendoza                      50028     Guaymallén 2020-09-08         NaN   \n",
       "29   Mendoza                      50063  Luján de Cuyo 2020-09-08         NaN   \n",
       "\n",
       "    monto  ano_alta  mes_alta  dia_alta  \n",
       "4    6000    2020.0       3.0       1.0  \n",
       "12   4000    2020.0       3.0       1.0  \n",
       "23   4000    2020.0       9.0       8.0  \n",
       "25   4000    2020.0       9.0       8.0  \n",
       "29   4000    2020.0       9.0       8.0  "
      ]
     },
     "execution_count": 37,
     "metadata": {},
     "output_type": "execute_result"
    }
   ],
   "source": [
    "mendoza.head()"
   ]
  },
  {
   "cell_type": "code",
   "execution_count": 38,
   "metadata": {},
   "outputs": [
    {
     "data": {
      "text/plain": [
       "(82407, 12)"
      ]
     },
     "execution_count": 38,
     "metadata": {},
     "output_type": "execute_result"
    }
   ],
   "source": [
    "mendoza.shape"
   ]
  },
  {
   "cell_type": "code",
   "execution_count": 39,
   "metadata": {},
   "outputs": [
    {
     "data": {
      "text/plain": [
       "F    76473\n",
       "M     5934\n",
       "Name: sexo, dtype: int64"
      ]
     },
     "execution_count": 39,
     "metadata": {},
     "output_type": "execute_result"
    }
   ],
   "source": [
    "mendoza.sexo.value_counts()"
   ]
  },
  {
   "cell_type": "code",
   "execution_count": 40,
   "metadata": {},
   "outputs": [
    {
     "data": {
      "text/plain": [
       "F    0.927992\n",
       "M    0.072008\n",
       "Name: sexo, dtype: float64"
      ]
     },
     "execution_count": 40,
     "metadata": {},
     "output_type": "execute_result"
    }
   ],
   "source": [
    "mendoza.sexo.value_counts(normalize = True)"
   ]
  },
  {
   "cell_type": "code",
   "execution_count": 42,
   "metadata": {},
   "outputs": [],
   "source": [
    "mendoza.departamento.value_counts().to_frame().to_csv('tarjetas_por_departamento.csv')"
   ]
  },
  {
   "cell_type": "code",
   "execution_count": 43,
   "metadata": {},
   "outputs": [
    {
     "data": {
      "text/plain": [
       "Las Heras         0.132598\n",
       "Maipú             0.109493\n",
       "Guaymallén        0.106411\n",
       "San Rafael        0.101581\n",
       "Godoy Cruz        0.081292\n",
       "San Martín        0.072324\n",
       "Luján de Cuyo     0.062750\n",
       "Tupungato         0.051610\n",
       "Capital           0.051015\n",
       "Rivadavia         0.034281\n",
       "Lavalle           0.034063\n",
       "Tunuyán           0.033650\n",
       "La Paz            0.033104\n",
       "General Alvear    0.027680\n",
       "Junín             0.022595\n",
       "San Carlos        0.021721\n",
       "Malargüe          0.014987\n",
       "Santa Rosa        0.008846\n",
       "Name: departamento, dtype: float64"
      ]
     },
     "execution_count": 43,
     "metadata": {},
     "output_type": "execute_result"
    }
   ],
   "source": [
    "mendoza.departamento.value_counts(normalize = True)"
   ]
  },
  {
   "cell_type": "code",
   "execution_count": 44,
   "metadata": {},
   "outputs": [
    {
     "data": {
      "text/plain": [
       "count    82407.000000\n",
       "mean      4574.781269\n",
       "std        905.096112\n",
       "min       4000.000000\n",
       "25%       4000.000000\n",
       "50%       4000.000000\n",
       "75%       6000.000000\n",
       "max       6000.000000\n",
       "Name: monto, dtype: float64"
      ]
     },
     "execution_count": 44,
     "metadata": {},
     "output_type": "execute_result"
    }
   ],
   "source": [
    "mendoza.monto.describe()"
   ]
  },
  {
   "cell_type": "code",
   "execution_count": 45,
   "metadata": {},
   "outputs": [
    {
     "data": {
      "text/plain": [
       "376994000"
      ]
     },
     "execution_count": 45,
     "metadata": {},
     "output_type": "execute_result"
    }
   ],
   "source": [
    "mendoza.monto.sum()"
   ]
  },
  {
   "cell_type": "code",
   "execution_count": 48,
   "metadata": {},
   "outputs": [],
   "source": [
    "mendoza.groupby('departamento')['monto'].sum().sort_values(ascending=False).to_csv('montos_por_departamento.csv')"
   ]
  },
  {
   "cell_type": "code",
   "execution_count": 49,
   "metadata": {},
   "outputs": [
    {
     "data": {
      "text/plain": [
       "F    76473\n",
       "M     5934\n",
       "Name: sexo, dtype: int64"
      ]
     },
     "execution_count": 49,
     "metadata": {},
     "output_type": "execute_result"
    }
   ],
   "source": [
    "mendoza.sexo.value_counts()"
   ]
  },
  {
   "cell_type": "code",
   "execution_count": 50,
   "metadata": {},
   "outputs": [
    {
     "data": {
      "text/plain": [
       "3.0    69393\n",
       "9.0    13007\n",
       "5.0        7\n",
       "Name: mes_alta, dtype: int64"
      ]
     },
     "execution_count": 50,
     "metadata": {},
     "output_type": "execute_result"
    }
   ],
   "source": [
    "mendoza.mes_alta.value_counts()"
   ]
  },
  {
   "cell_type": "code",
   "execution_count": 52,
   "metadata": {},
   "outputs": [
    {
     "data": {
      "text/plain": [
       "1.0    69400\n",
       "8.0    13007\n",
       "Name: dia_alta, dtype: int64"
      ]
     },
     "execution_count": 52,
     "metadata": {},
     "output_type": "execute_result"
    }
   ],
   "source": [
    "mendoza.dia_alta.value_counts()"
   ]
  },
  {
   "cell_type": "code",
   "execution_count": 55,
   "metadata": {},
   "outputs": [],
   "source": [
    "mendoza.groupby(['departamento', 'sexo', 'monto']).size().unstack(level=1, \n",
    "                                                                   fill_value=0).to_csv('departamento_monto_genero.csv')"
   ]
  },
  {
   "cell_type": "code",
   "execution_count": 56,
   "metadata": {},
   "outputs": [
    {
     "data": {
      "text/plain": [
       "id_persona                       0\n",
       "sexo                             0\n",
       "codigo_indec_provincia           0\n",
       "provincia                        0\n",
       "codigo_indec_departamento        0\n",
       "departamento                     0\n",
       "fecha_alta                       0\n",
       "fecha_baja                   72366\n",
       "monto                            0\n",
       "ano_alta                         0\n",
       "mes_alta                         0\n",
       "dia_alta                         0\n",
       "dtype: int64"
      ]
     },
     "execution_count": 56,
     "metadata": {},
     "output_type": "execute_result"
    }
   ],
   "source": [
    "mendoza.isnull().sum()"
   ]
  },
  {
   "cell_type": "code",
   "execution_count": 57,
   "metadata": {},
   "outputs": [
    {
     "data": {
      "text/plain": [
       "(82407, 12)"
      ]
     },
     "execution_count": 57,
     "metadata": {},
     "output_type": "execute_result"
    }
   ],
   "source": [
    "mendoza.shape"
   ]
  },
  {
   "cell_type": "code",
   "execution_count": 58,
   "metadata": {},
   "outputs": [
    {
     "data": {
      "text/plain": [
       "10041"
      ]
     },
     "execution_count": 58,
     "metadata": {},
     "output_type": "execute_result"
    }
   ],
   "source": [
    "82407-72366"
   ]
  },
  {
   "cell_type": "code",
   "execution_count": null,
   "metadata": {},
   "outputs": [],
   "source": []
  }
 ],
 "metadata": {
  "kernelspec": {
   "display_name": "Python 3",
   "language": "python",
   "name": "python3"
  },
  "language_info": {
   "codemirror_mode": {
    "name": "ipython",
    "version": 3
   },
   "file_extension": ".py",
   "mimetype": "text/x-python",
   "name": "python",
   "nbconvert_exporter": "python",
   "pygments_lexer": "ipython3",
   "version": "3.6.9"
  }
 },
 "nbformat": 4,
 "nbformat_minor": 4
}
